{
 "cells": [
  {
   "cell_type": "code",
   "execution_count": null,
   "id": "7f5a589a",
   "metadata": {},
   "outputs": [],
   "source": [
    "# explore the algorithm wrapped by RFE\n",
    "from numpy import mean\n",
    "from numpy import std\n",
    "\n",
    "from sklearn.neighbors import KNeighborsClassifier\n",
    "#from sklearn.feature_selection import SelectKBest\n",
    "#from sklearn.feature_selection import chi2\n",
    "from xgboost import XGBClassifier\n",
    "from sklearn.svm import SVC\n",
    "from sklearn.datasets import make_classification\n",
    "from sklearn.model_selection import cross_val_score\n",
    "from sklearn.model_selection import RepeatedStratifiedKFold\n",
    "\n",
    "\n",
    "from sklearn.feature_selection import SelectFdr, chi2, VarianceThreshold,SelectKBest,SelectPercentile\n",
    "from sklearn.feature_selection import RFE\n",
    "from sklearn.feature_selection import RFECV\n",
    "from sklearn.linear_model import LogisticRegression\n",
    "from sklearn.linear_model import Perceptron\n",
    "from sklearn.tree import DecisionTreeClassifier\n",
    "from sklearn.ensemble import RandomForestClassifier\n",
    "from sklearn.ensemble import GradientBoostingClassifier\n",
    "from sklearn.pipeline import Pipeline\n",
    "from sklearn import preprocessing\n",
    "from matplotlib import pyplot\n",
    "from tqdm import tqdm\n",
    "from glob import glob\n",
    "\n",
    "import matplotlib.pyplot as plt\n",
    "import seaborn as sns\n",
    "import pandas as pd\n",
    "import numpy as np\n",
    "import pickle\n",
    "\n",
    "from collections import Counter\n",
    "\n",
    "le = preprocessing.LabelEncoder()\n",
    "le.fit([\"CP\", \"NO_CP\"])"
   ]
  },
  {
   "cell_type": "code",
   "execution_count": null,
   "id": "e0a7d88c",
   "metadata": {},
   "outputs": [],
   "source": [
    "raw_in='../Input/raw/'\n",
    "base_in='../Input/Prep/Script1/'\n",
    "base_out='../Output/Script1/Results/'\n",
    "glob(raw_in+'*')"
   ]
  },
  {
   "cell_type": "code",
   "execution_count": null,
   "id": "fce7356a",
   "metadata": {},
   "outputs": [],
   "source": [
    "def div_d(my_dict,sum_p):\n",
    "\n",
    "    #sum_p = sum(my_dict.values())\n",
    "\n",
    "    for i in my_dict:\n",
    "        my_dict[i] = float(my_dict[i]/sum_p)\n",
    "\n",
    "    return my_dict \n",
    "\n",
    "def intersection(lst1, lst2):\n",
    "    return list(set(lst1) & set(lst2))\n",
    "\n",
    "def fetch_data(exp_fname=raw_in+'TCGA-PAAD(non_norm_exp_data).csv',gene_file=base_in+'tcga_gene.csv',meta_file=raw_in+'TCGA_meta_info.csv'):\n",
    "#     exp_fname=raw_in+'TCGA-PAAD(non_norm_exp_data).csv'\n",
    "#     meta_file=raw_in+'TCGA_meta_info.csv'\n",
    "#     gene_file=raw_in+'tcga_gene.csv'\n",
    "\n",
    "    GSE162694_norm=pd.read_csv(exp_fname,index_col=0)\n",
    "    GSE162694_norm.rename(columns={'Row.names':'Patient'},inplace=True)\n",
    "\n",
    "    keys_index=pd.read_csv(gene_file)\n",
    " \n",
    "    GSE162694_groups=pd.read_csv(meta_file)\n",
    "    GSE162694_groups['Patient']=GSE162694_groups['Patient'].str.replace('-01A','')\n",
    "  \n",
    "    GSE162694_groups=GSE162694_groups[['Patient','Label']]\n",
    "   \n",
    "    maped_keys=intersection(keys_index['Genes'].to_list(),GSE162694_norm.columns.tolist())\n",
    "    GSE162694_sub=GSE162694_norm[['Patient']+maped_keys].copy()\n",
    "\n",
    "    dataset=pd.merge(GSE162694_sub,GSE162694_groups,on='Patient',   how='right')\n",
    "    df=dataset.copy()\n",
    "    ready_data=df.loc[:,~df.columns.duplicated()]\n",
    "    #ready_data.drop('Patient',inplace=True)\n",
    "    return ready_data\n",
    "\n",
    "def feature_extract(model):\n",
    "    feature_importances=[]\n",
    "    importance = model.ranking_\n",
    "    feature_importances = pd.Series(importance, index=model.feature_names_in_)\n",
    "    sel_indx=model.support_\n",
    "    my_feat=feature_importances[sel_indx]\n",
    "    return my_feat,feature_importances\n",
    "\n",
    "def feature_rank(model):\n",
    "    feature_importances=[]\n",
    "    importance = model.feature_importances_\n",
    "    #feature_importances = pd.Series(importance, index=model.feature_names_in_)\n",
    "    feature_importances = pd.DataFrame({'Name':model.feature_names_in_,'Score':importance})\n",
    "    #sel_indx=model.support_\n",
    "    my_feat=feature_importances.copy()\n",
    "    return my_feat"
   ]
  },
  {
   "cell_type": "code",
   "execution_count": null,
   "id": "63f72388",
   "metadata": {},
   "outputs": [],
   "source": [
    "def get_models():\n",
    "    models = dict()\n",
    "    # lr\n",
    "    cvs=10\n",
    "    st=1\n",
    "    rnd=15\n",
    "    rfe = RFECV(estimator=DecisionTreeClassifier(random_state=rnd),step=st,cv=cvs,n_jobs=25)\n",
    "    #model = DecisionTreeClassifier(random_state=24)\n",
    "    models['dt'] = rfe\n",
    "    # perceptron\n",
    "    rfe = RFECV(estimator=RandomForestClassifier(random_state=2,n_estimators=50),step=st,cv=cvs,n_jobs=25)\n",
    "    #model = RandomForestClassifier(random_state=24,n_estimators=50)\n",
    "    models['rf'] = rfe\n",
    "    # cart\n",
    "    #KNN\n",
    "    rfe = RFECV(estimator=Perceptron(),step=st,cv=cvs,n_jobs=25)\n",
    "    #model = KNeighborsClassifier()\n",
    "    models['per'] = rfe\n",
    "    # rf\n",
    "    rfe = RFECV(estimator=SVC(kernel='linear',random_state=rnd),step=st,cv=cvs,n_jobs=25)\n",
    "    #model = SVC(kernel='linear',random_state=24)\n",
    "    models['svm'] = rfe\n",
    "    # gbm\n",
    "    rfe = RFECV(estimator=XGBClassifier(random_state=rnd),step=st,cv=cvs,n_jobs=25)\n",
    "    #model = XGBClassifier(random_state=24)\n",
    "    models['xgb'] = rfe\n",
    "    #Some liner\n",
    "    rfe = RFECV(estimator=LogisticRegression(solver='lbfgs',max_iter=1000,random_state=rnd),step=st,cv=cvs,n_jobs=25)\n",
    "    #model = LogisticRegression(solver='lbfgs',max_iter=1000,random_state=24)\n",
    "    models['logit'] = rfe\n",
    "    return models"
   ]
  },
  {
   "cell_type": "markdown",
   "id": "cc9dd760",
   "metadata": {},
   "source": [
    "# Dataset preparation"
   ]
  },
  {
   "cell_type": "code",
   "execution_count": null,
   "id": "e32bda89",
   "metadata": {},
   "outputs": [],
   "source": [
    "#Use own dataframe having last columns as class Label\n",
    "dataset=fetch_data(exp_fname=raw_in+'TCGA-PAAD(meth_data).csv',gene_file=base_in+'tcga_meth_site.csv')\n",
    "#dataset.drop('Patient',inplace=True)\n",
    "display(dataset.shape,dataset.head())\n",
    "#######################################"
   ]
  },
  {
   "cell_type": "markdown",
   "id": "d3411b53",
   "metadata": {},
   "source": [
    "# 1. Saving the FDR feature list"
   ]
  },
  {
   "cell_type": "markdown",
   "id": "80ed6216",
   "metadata": {},
   "source": [
    "## Expression"
   ]
  },
  {
   "cell_type": "code",
   "execution_count": null,
   "id": "7ba63e2b",
   "metadata": {},
   "outputs": [],
   "source": [
    "\n",
    "X=dataset.iloc[:,1:-1]\n",
    "labels=dataset.iloc[:,-1]\n",
    "y=le.transform(labels)\n",
    "\n",
    "#X_new = SelectFdr(chi2, alpha=0.01).fit_transform(np.log2(X+1), y)\n",
    "feat_names = SelectFdr(chi2, alpha=0.01).fit(np.log2(X+1), y).get_feature_names_out()\n",
    "print(len(feat_names))"
   ]
  },
  {
   "cell_type": "code",
   "execution_count": null,
   "id": "fbdaffd3",
   "metadata": {},
   "outputs": [],
   "source": [
    "my_features=pd.DataFrame({'Genes':list(feat_names)})\n",
    "my_features.to_csv(base_in+'TCGA_FDR_feat_(a_0.1).csv',index=False)"
   ]
  },
  {
   "cell_type": "markdown",
   "id": "72239cac",
   "metadata": {},
   "source": [
    "## Mutation"
   ]
  },
  {
   "cell_type": "code",
   "execution_count": null,
   "id": "21cf3058",
   "metadata": {},
   "outputs": [],
   "source": []
  },
  {
   "cell_type": "markdown",
   "id": "290fee91",
   "metadata": {},
   "source": [
    "# 2. saving the K best feature list"
   ]
  },
  {
   "cell_type": "markdown",
   "id": "5a1c6d03",
   "metadata": {},
   "source": [
    "## Expression"
   ]
  },
  {
   "cell_type": "code",
   "execution_count": null,
   "id": "33b332bf",
   "metadata": {},
   "outputs": [],
   "source": [
    "\n",
    "X=dataset.iloc[:,1:-1]\n",
    "labels=dataset.iloc[:,-1]\n",
    "y=le.transform(labels)\n",
    "\n",
    "#X_new = SelectFdr(chi2, alpha=0.01).fit_transform(np.log2(X+1), y)\n",
    "feat_names = SelectKBest(chi2, k=1000).fit(np.log2(X+1), y).get_feature_names_out()\n",
    "print(len(feat_names))"
   ]
  },
  {
   "cell_type": "code",
   "execution_count": null,
   "id": "d6b1ebf9",
   "metadata": {},
   "outputs": [],
   "source": [
    "my_features=pd.DataFrame({'Genes':list(feat_names)})\n",
    "my_features.to_csv(base_in+'TCGA_kbest_feat_(k_1000).csv',index=False)"
   ]
  },
  {
   "cell_type": "markdown",
   "id": "78584031",
   "metadata": {},
   "source": [
    "# 3. saving the percentile feature list"
   ]
  },
  {
   "cell_type": "markdown",
   "id": "baac3306",
   "metadata": {},
   "source": [
    "## Expression"
   ]
  },
  {
   "cell_type": "code",
   "execution_count": null,
   "id": "b801eccd",
   "metadata": {},
   "outputs": [],
   "source": [
    "X=dataset.iloc[:,1:-1]\n",
    "labels=dataset.iloc[:,-1]\n",
    "y=le.transform(labels)\n",
    "\n",
    "\n",
    "\n",
    "feat_names = SelectPercentile(chi2, percentile=5).fit(np.log2(X+1), y).get_feature_names_out()\n",
    "print(len(feat_names))"
   ]
  },
  {
   "cell_type": "code",
   "execution_count": null,
   "id": "a5603939",
   "metadata": {},
   "outputs": [],
   "source": [
    "my_features=pd.DataFrame({'Genes':list(feat_names)})\n",
    "my_features.to_csv(base_in+'TCGA_p_feat_exp(p_5).csv',index=False)"
   ]
  },
  {
   "cell_type": "markdown",
   "id": "a4913547",
   "metadata": {},
   "source": [
    "## Methylation"
   ]
  },
  {
   "cell_type": "code",
   "execution_count": null,
   "id": "7724e7ef",
   "metadata": {},
   "outputs": [],
   "source": [
    "\n",
    "dataset=fetch_data(exp_fname=raw_in+'TCGA-PAAD(meth_data).csv',gene_file=base_in+'tcga_meth_site.csv')\n",
    "#dataset.drop('Patient',inplace=True)\n",
    "display(dataset.shape,dataset.head())\n",
    "#######################################"
   ]
  },
  {
   "cell_type": "code",
   "execution_count": null,
   "id": "10f66554",
   "metadata": {},
   "outputs": [],
   "source": [
    "X=dataset.iloc[:,1:-1].dropna(axis=1)\n",
    "#X=dataset.iloc[:,1:-1]\n",
    "labels=dataset.iloc[:,-1]\n",
    "y=le.transform(labels)\n",
    "\n",
    "#X_new = SelectFdr(chi2, alpha=0.01).fit_transform(np.log2(X+1), y)\n",
    "#feat_names = SelectFdr(chi2).fit(X, y).get_feature_names_out()\n",
    "#selector = VarianceThreshold()\n",
    "#feat_names = selector.fit(X).get_feature_names_out()\n",
    "feat_names = SelectPercentile(chi2, percentile=5).fit(X, y).get_feature_names_out()\n",
    "print(len(feat_names))"
   ]
  },
  {
   "cell_type": "markdown",
   "id": "69592231",
   "metadata": {},
   "source": [
    "## Mutation"
   ]
  },
  {
   "cell_type": "code",
   "execution_count": null,
   "id": "76e437bd",
   "metadata": {},
   "outputs": [],
   "source": [
    "dataset=fetch_data(exp_fname=raw_in+'TCGA-PAAD(mut_data).csv',gene_file=base_in+'tcga_mut_site.csv')\n",
    "#dataset.drop('Patient',inplace=True)\n",
    "display(dataset.shape,dataset.head())\n",
    "#######################################"
   ]
  },
  {
   "cell_type": "code",
   "execution_count": null,
   "id": "76c042d7",
   "metadata": {},
   "outputs": [],
   "source": [
    "X=dataset.iloc[:,1:-1]\n",
    "#X=dataset.iloc[:,1:-1]\n",
    "labels=dataset.iloc[:,-1]\n",
    "y=le.transform(labels)\n",
    "X.shape"
   ]
  },
  {
   "cell_type": "markdown",
   "id": "eef4924d",
   "metadata": {},
   "source": []
  },
  {
   "cell_type": "code",
   "execution_count": null,
   "id": "2e3e5973",
   "metadata": {},
   "outputs": [],
   "source": []
  },
  {
   "cell_type": "code",
   "execution_count": null,
   "id": "eac8cb4e",
   "metadata": {},
   "outputs": [],
   "source": []
  }
 ],
 "metadata": {
  "kernelspec": {
   "display_name": "Python 3 (ipykernel)",
   "language": "python",
   "name": "python3"
  },
  "language_info": {
   "codemirror_mode": {
    "name": "ipython",
    "version": 3
   },
   "file_extension": ".py",
   "mimetype": "text/x-python",
   "name": "python",
   "nbconvert_exporter": "python",
   "pygments_lexer": "ipython3",
   "version": "3.9.7"
  }
 },
 "nbformat": 4,
 "nbformat_minor": 5
}
